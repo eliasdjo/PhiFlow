{
  "nbformat": 4,
  "nbformat_minor": 0,
  "metadata": {
    "colab": {
      "provenance": [],
      "authorship_tag": "ABX9TyPRtf1ExoaM9s+wBiDlr3bQ",
      "include_colab_link": true
    },
    "kernelspec": {
      "name": "python3",
      "display_name": "Python 3"
    },
    "language_info": {
      "name": "python"
    }
  },
  "cells": [
    {
      "cell_type": "markdown",
      "metadata": {
        "id": "view-in-github",
        "colab_type": "text"
      },
      "source": [
        "<a href=\"https://colab.research.google.com/github/eliasdjo/PhiFlow/blob/2.3-develop/Higher-order%20Fluid%20Simulations%20with%20%CE%A6-Flow%202.ipynb.ipynb\" target=\"_parent\"><img src=\"https://colab.research.google.com/assets/colab-badge.svg\" alt=\"Open In Colab\"/></a>"
      ]
    },
    {
      "cell_type": "markdown",
      "source": [
        "# Differentiable Fluid Simulations with Φ<sub>Flow</sub>\n",
        "\n",
        "[![Google Collab Book](https://colab.research.google.com/assets/colab-badge.svg)](https://colab.research.google.com/github/tum-pbs/PhiFlow/blob/develop/docs/Fluids_Tutorial.ipynb)\n",
        "\n",
        "This notebook steps you through setting up fluid simulations and using TensorFlow's differentiation to optimize them.\n",
        "\n",
        "Execute the cell below to install the [Φ<sub>Flow</sub> Python package from GitHub](https://github.com/tum-pbs/PhiFlow)."
      ],
      "metadata": {
        "id": "3m0UJN9_lZBK"
      }
    },
    {
      "cell_type": "code",
      "execution_count": null,
      "metadata": {
        "id": "-NuGPniRlX3u"
      },
      "outputs": [],
      "source": []
    }
  ]
}