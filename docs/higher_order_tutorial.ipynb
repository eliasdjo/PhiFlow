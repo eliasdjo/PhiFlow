{
 "cells": [
  {
   "cell_type": "markdown",
   "metadata": {
    "id": "3m0UJN9_lZBK"
   },
   "source": [
    "# Higher-order Fluid Simulations on Periodic Boundaries with Φ<sub>Flow</sub>\n",
    "\n",
    "[![Google Collab Book](https://colab.research.google.com/assets/colab-badge.svg)](https://colab.research.google.com/github/eloasdjo/PhiFlow/blob/Higher_order_Tutorial.ipynb)\n",
    "\n",
    "This notebook steps demonstrates setting up a higher-order Fluid Simulation with Periodic Boundaries. For this purpose the [Taylor-Green Vortex](https://en.wikipedia.org/wiki/Taylor_Green_vortex) (TGV) will be implemented in the following.\n",
    "\n",
    "Execute the cell below to install the [Φ<sub>Flow</sub> Python package from GitHub](https://github.com/tum-pbs/PhiFlow).\n",
    "\n",
    "\n",
    "Double precision mode is activated to allow for highly accurate simulations."
   ]
  },
  {
   "cell_type": "code",
   "execution_count": 1,
   "metadata": {
    "id": "-NuGPniRlX3u",
    "colab": {
     "base_uri": "https://localhost:8080/"
    },
    "outputId": "7a5ec1f5-32d3-40f7-a50f-54df7d2ea642"
   },
   "outputs": [
    {
     "name": "stdout",
     "output_type": "stream",
     "text": [
      "^C\r\n",
      "Traceback (most recent call last):\r\n",
      "  File \"/home/djossou/Hiwi/PhiFlow/venv/bin/pip\", line 5, in <module>\r\n",
      "    from pip._internal.cli.main import main\r\n",
      "  File \"/home/djossou/Hiwi/PhiFlow/venv/lib/python3.8/site-packages/pip/_internal/cli/main.py\", line 9, in <module>\r\n",
      "    from pip._internal.cli.autocompletion import autocomplete\r\n",
      "  File \"/home/djossou/Hiwi/PhiFlow/venv/lib/python3.8/site-packages/pip/_internal/cli/autocompletion.py\", line 12, in <module>\r\n",
      "    from pip._internal.metadata import get_default_environment\r\n",
      "  File \"/home/djossou/Hiwi/PhiFlow/venv/lib/python3.8/site-packages/pip/_internal/metadata/__init__.py\", line 3, in <module>\r\n",
      "    from .base import BaseDistribution, BaseEnvironment, FilesystemWheel, MemoryWheel, Wheel\r\n",
      "  File \"/home/djossou/Hiwi/PhiFlow/venv/lib/python3.8/site-packages/pip/_internal/metadata/base.py\", line 21, in <module>\r\n",
      "    from pip._vendor.packaging.requirements import Requirement\r\n",
      "  File \"/home/djossou/Hiwi/PhiFlow/venv/lib/python3.8/site-packages/pip/_vendor/packaging/requirements.py\", line 10, in <module>\r\n",
      "    from pip._vendor.pyparsing import (  # noqa\r\n",
      "  File \"/home/djossou/Hiwi/PhiFlow/venv/lib/python3.8/site-packages/pip/_vendor/pyparsing/__init__.py\", line 141, in <module>\r\n",
      "    from .helpers import *\r\n",
      "  File \"/home/djossou/Hiwi/PhiFlow/venv/lib/python3.8/site-packages/pip/_vendor/pyparsing/helpers.py\", line 688, in <module>\r\n",
      "    common_html_entity = Regex(\"&(?P<entity>\" + \"|\".join(_htmlEntityMap) + \");\").set_name(\r\n",
      "  File \"/home/djossou/Hiwi/PhiFlow/venv/lib/python3.8/site-packages/pip/_vendor/pyparsing/core.py\", line 2933, in __init__\r\n",
      "    self.re = re.compile(self.pattern, self.flags)\r\n",
      "  File \"/usr/lib/python3.8/re.py\", line 252, in compile\r\n",
      "    return _compile(pattern, flags)\r\n",
      "  File \"/usr/lib/python3.8/re.py\", line 304, in _compile\r\n",
      "    p = sre_compile.compile(pattern, flags)\r\n",
      "  File \"/usr/lib/python3.8/sre_compile.py\", line 764, in compile\r\n",
      "    p = sre_parse.parse(p, flags)\r\n",
      "  File \"/usr/lib/python3.8/sre_parse.py\", line 948, in parse\r\n",
      "    p = _parse_sub(source, state, flags & SRE_FLAG_VERBOSE, 0)\r\n",
      "  File \"/usr/lib/python3.8/sre_parse.py\", line 443, in _parse_sub\r\n",
      "    itemsappend(_parse(source, state, verbose, nested + 1,\r\n",
      "  File \"/usr/lib/python3.8/sre_parse.py\", line 834, in _parse\r\n",
      "    p = _parse_sub(source, state, sub_verbose, nested + 1)\r\n",
      "  File \"/usr/lib/python3.8/sre_parse.py\", line 443, in _parse_sub\r\n",
      "    itemsappend(_parse(source, state, verbose, nested + 1,\r\n",
      "  File \"/usr/lib/python3.8/sre_parse.py\", line 853, in _parse\r\n",
      "    op, av = subpattern[i]\r\n",
      "  File \"/usr/lib/python3.8/sre_parse.py\", line 167, in __getitem__\r\n",
      "    return self.data[index]\r\n",
      "KeyboardInterrupt\r\n"
     ]
    },
    {
     "name": "stderr",
     "output_type": "stream",
     "text": [
      "\n",
      "KeyboardInterrupt\n",
      "\n"
     ]
    }
   ],
   "source": [
    "!pip install --upgrade --quiet git+https://github.com/tum-pbs/PhiFlow@2.3-develop\n",
    "from phi.jax.flow import *\n",
    "from functools import partial\n",
    "math.set_global_precision(64)"
   ]
  },
  {
   "cell_type": "markdown",
   "metadata": {
    "id": "4NTkTx18nitZ"
   },
   "source": [
    "## Setting up intital conditions and analytical solution\n",
    "\n",
    "The Taylor–Green vortex is an unsteady flow of a decaying vortex, which has an exact closed form solution of the incompressible Navier–Stokes equations in Cartesian coordinates. The solution is given by the following functions:"
   ]
  },
  {
   "cell_type": "code",
   "execution_count": null,
   "metadata": {
    "id": "0FBmhDCAsx-T"
   },
   "outputs": [],
   "source": [
    "viscosity = 0.1\n",
    "\n",
    "def exponential_decay(t):\n",
    "    return math.exp(-2 * viscosity * t)\n",
    "\n",
    "def tgv_velocity(x, t):\n",
    "    sin, cos = math.sin(x), math.cos(x)\n",
    "    return math.stack([cos.vector['x'] * sin.vector['y'] * exponential_decay(t),\n",
    "                       - sin.vector['x'] * cos.vector['y'] * exponential_decay(t)], dim=channel('vector'))\n",
    "    \n",
    "def tgv_pressure(x, t):\n",
    "  return -1 / 4 * (math.sum(math.cos(2 * x), 'vector')) * (exponential_decay(t) ** 2)"
   ]
  },
  {
   "cell_type": "markdown",
   "metadata": {
    "id": "STWLmyfb12eh"
   },
   "source": [
    "The predefined viscosity `vis` of `0.1` leads to a relatively low Reynoldsnumber of `1 / vis = 10` which is preferable for the TGV since higher viscosities lead to a stronger decay of the Vortex and therfor a more rapid developement in time."
   ]
  },
  {
   "cell_type": "markdown",
   "metadata": {
    "id": "RNx6RXdMryx2"
   },
   "source": [
    "First, we create a function capable of smpling the solution at arbitrary points in time and resolution. \n",
    "For that we create a qudratic DOMAIN of size `2*π` with the number of points given by `grid_resolution` in `x` and `y` direction and periodic Boundaries.\n",
    "From that we create velocity vector and pressure scalar fields sampling the above solution at time `t`.\n",
    "We use a Staggered Grid approach meaning we sample the pressure field at the cell centers and the velocity in [staggered form](https://tum-pbs.github.io/PhiFlow/Staggered_Grids.html)."
   ]
  },
  {
   "cell_type": "code",
   "execution_count": null,
   "metadata": {
    "id": "IYZXtk0hui4M"
   },
   "outputs": [],
   "source": [
    "def sample_tgv(grid_resolution, t):\n",
    "  DOMAIN = dict(extrapolation=extrapolation.PERIODIC,\n",
    "                            bounds=Box['x,y', 0:2 * math.pi, 0:2 * math.pi], x=grid_resolution, y=grid_resolution)\n",
    "\n",
    "  velocity = StaggeredGrid(partial(tgv_velocity, t=t), **DOMAIN)\n",
    "  pressure = CenteredGrid(partial(tgv_pressure, t=t), **DOMAIN)\n",
    "  return velocity, pressure"
   ]
  },
  {
   "cell_type": "markdown",
   "metadata": {
    "id": "9_hydHg7vtF8"
   },
   "source": [
    "Let's take a look at the initial conditions for a moderate resolution."
   ]
  },
  {
   "cell_type": "code",
   "execution_count": null,
   "metadata": {
    "colab": {
     "base_uri": "https://localhost:8080/",
     "height": 738
    },
    "id": "gUg4_lxJvyJj",
    "outputId": "7db594e2-d6a8-45ef-907b-7676d6f6ab6e"
   },
   "outputs": [],
   "source": [
    "resolution = 25\n",
    "initial_velocity, initial_pressure = sample_tgv(resolution, 0)\n",
    "plot(initial_velocity, initial_pressure)\n",
    "plot(initial_velocity.vector['x'], initial_velocity.vector['y']) # veclocity field in scalar representation"
   ]
  },
  {
   "cell_type": "markdown",
   "metadata": {
    "id": "1AHVJk0Y4Smw"
   },
   "source": [
    "## Setting up a high order simulation\n",
    "\n",
    "Now let's tend to simluate the TGV in time, we use a higher-order finite difference approach.\n",
    "\n",
    "Firstly we create a function that discretizes the derivatives in the momentum equation incorporating advection, diffusion and a spatial gradient of the pressure.\n",
    "\n",
    "There are a few things to note:\n",
    "  1. In addition to the velocity `v` and the pressure `p`, `momentum_equation` has extra parameters which allow to configure the utilized operations mainly in terms of the order of accuracy.\n",
    "  2. The parameter `adv_diff_scheme` can be set to the `'semi_lagrangian'` to perform semi-Lagranian advection and second order diffusion, apart from that 'Scheme' objects are expected.\n",
    "  3.   By default `momentum_equation` uses sixth order accurate implicit advection and diffusion. Meanwhile treatment concerning the pressure are conducted using fourth-order direct Schemes. Schemes of fourth-order are in this case sufficient because the TGV is mainly diffusion driven. Direct Schemes come into play to prevent nested linear solves while enforcing the Continouity Equation\n",
    "  4.   Indirect schemes require a `Solve` object. We use the Conjugate Gradient method `'CG'` since the periodic boundaries result in symmetric linear equation systems for which CG is fastest. Similar to activation of double precision mode we set the Error tolerace really low to demonstrate the full capabilites of the solver later on.\n",
    "  5. while advect and diffuse functions return quanities which are already advanced in time using a first-order Euler integrator, we are interested in using a higher-order time advancement and therefor only need the corresponding amounts which is why we specify `dt=1` and substract the original velocity to revert the Euler-step\n",
    "\n",
    "\n",
    "\n",
    "\n"
   ]
  },
  {
   "cell_type": "code",
   "execution_count": null,
   "metadata": {
    "id": "mDZdlZSf5OcL"
   },
   "outputs": [],
   "source": [
    "tol = 1e-12\n",
    "\n",
    "\n",
    "def momentum_equation(v, p, adv_diff_scheme=Scheme(6, Solve('CG', tol, tol)), press_scheme=Scheme(4)):\n",
    "    if adv_diff_scheme == 'semi_lagrangian':\n",
    "      adv_diff_press = advect.semi_lagrangian(v, v, 1) - v\n",
    "      adv_diff_press += diffuse.finite_difference(v, viscosity, 1, scheme=Scheme(2)) - v\n",
    "    else:\n",
    "      adv_diff_press = advect.finite_difference(v, v, 1, scheme=adv_diff_scheme) - v\n",
    "      adv_diff_press += diffuse.finite_difference(v, viscosity, 1, scheme=math.copy_with(adv_diff_scheme)) - v\n",
    "    \n",
    "    adv_diff_press -= field.spatial_gradient(p, type=StaggeredGrid, scheme=Scheme(2))\n",
    "    return adv_diff_press\n",
    "\n",
    "\n",
    "\n"
   ]
  },
  {
   "cell_type": "markdown",
   "metadata": {
    "id": "CpJAK--261kb"
   },
   "source": [
    "Next we define a pressure treatment `pt` which enforces the countinoutiy equation, making the velocity field incompressible and advancing the pressure field in time by solving a laplace equation. Again a `scheme` parameter allows for configuration of the order of accuracy."
   ]
  },
  {
   "cell_type": "code",
   "execution_count": null,
   "metadata": {
    "id": "nc86FBdV62H3"
   },
   "outputs": [],
   "source": [
    "def pressure_treatment(v, p, dt, scheme=Scheme(4)):\n",
    "  v, delta_p = fluid.make_incompressible(v, solve=Solve('CG', tol, tol), scheme=scheme)\n",
    "  p += delta_p / dt\n",
    "  return v, p"
   ]
  },
  {
   "cell_type": "markdown",
   "metadata": {
    "id": "QTap3hdBBYt-"
   },
   "source": [
    "To obtain a higher-order time advancement we implement a function which performs a fourth-order accurate Runge-Kutta integrator step. And returns the new velocity and pressure fields. This requires the incorpartation of pressure treatment into the time step. The approach is inspired by [this paper](https://www.sciencedirect.com/science/article/pii/S0021999105005061) from Nikolaos A. Kampanis and John A. Ekaterinaris."
   ]
  },
  {
   "cell_type": "code",
   "execution_count": null,
   "metadata": {
    "id": "Er4nMXLQBX0Z"
   },
   "outputs": [],
   "source": [
    "def time_step(velocity, pressure, dt, momep=momentum_equation, pt=pressure_treatment):\n",
    "  v_1, p_1 = velocity, pressure\n",
    "\n",
    "  rhs_1 = momep(v_1, p_1)\n",
    "  v_2_old = velocity + (dt / 2) * rhs_1\n",
    "  v_2, p_2 = pt(v_2_old, p_1, dt / 2)\n",
    "\n",
    "  rhs_2 = momep(v_2, p_2)\n",
    "  v_3_old = velocity + (dt / 2) * rhs_2\n",
    "  v_3, p_3 = pt(v_3_old, p_2, dt / 2)\n",
    "\n",
    "  rhs_3 = momep(v_3, p_3)\n",
    "  v_4_old = velocity + dt * rhs_2\n",
    "  v_4, p_4 = pt(v_4_old, p_3, dt)\n",
    "\n",
    "  rhs_4 = momep(v_4, p_4)\n",
    "  v_p1_old = velocity + (dt / 6) * (rhs_1 + 2 * rhs_2 + 2 * rhs_3 + rhs_4)\n",
    "  p_p1_old = (1 / 6) * (p_1 + 2 * p_2 + 2 * p_3 + p_4)\n",
    "  v_p1, p_p1 = pt(v_p1_old, p_p1_old, dt)\n",
    "\n",
    "  return v_p1, p_p1\n",
    "\n",
    "time_step = math.jit_compile(time_step)"
   ]
  },
  {
   "cell_type": "markdown",
   "metadata": {
    "id": "WywdABcNEMtp"
   },
   "source": [
    "Now we can finally simulate the TGV in high order accuracy."
   ]
  },
  {
   "cell_type": "code",
   "execution_count": null,
   "metadata": {
    "id": "g0WD9yntEQzB"
   },
   "outputs": [],
   "source": [
    "v_trajectory = [initial_velocity]\n",
    "p_trajectory = [initial_pressure]\n",
    "velocity, pressure = initial_velocity, initial_pressure\n",
    "for i in range(0):\n",
    "  print(i, end=' ')\n",
    "  velocity, pressure = time_step(velocity, pressure, 0.1)\n",
    "  v_trajectory.append(velocity)\n",
    "  p_trajectory.append(pressure)\n",
    "v_trajectory = stack(v_trajectory, batch('time'))\n",
    "p_trajectory = stack(p_trajectory, batch('time'))"
   ]
  },
  {
   "cell_type": "markdown",
   "source": [
    "And Visualize the result which reveals the decaying nature of the TGV time developement."
   ],
   "metadata": {
    "id": "brUiSaCi-lQy"
   }
  },
  {
   "cell_type": "code",
   "source": [
    "vis.plot(v_trajectory, p_trajectory, animate='time')"
   ],
   "metadata": {
    "colab": {
     "base_uri": "https://localhost:8080/",
     "height": 398
    },
    "id": "_L8TjjSb9UzD",
    "outputId": "ffe40ba8-c308-488d-be8a-b768d4387f8c"
   },
   "execution_count": null,
   "outputs": []
  },
  {
   "cell_type": "code",
   "source": [
    "vis.plot(v_trajectory.vector['x'], v_trajectory.vector['y'], animate='time') # velocity field in sclar representation"
   ],
   "metadata": {
    "colab": {
     "base_uri": "https://localhost:8080/",
     "height": 398
    },
    "id": "shRNJYBJ-FsC",
    "outputId": "0f892257-41b9-4d18-8411-1089fdc41313"
   },
   "execution_count": null,
   "outputs": []
  },
  {
   "cell_type": "markdown",
   "source": [
    "## Setting up an order comparison\n",
    "\n",
    "\n",
    "Next we want to compare the Higher-order approach to different methods of lower-order.\n",
    "For that purpose we define different timestepping functions."
   ],
   "metadata": {
    "id": "LI3LQpso_DvQ"
   }
  },
  {
   "cell_type": "code",
   "source": [
    "high_ord_tstep = time_step\n",
    "mid_ord_tstep = partial(time_step, momep=partial(momentum_equation, adv_diff_scheme=Scheme(4), press_scheme=Scheme(4)), pt=partial(pressure_treatment, scheme=Scheme(4)))\n",
    "low_ord_tstep = partial(time_step, momep=partial(momentum_equation, adv_diff_scheme=Scheme(2), press_scheme=Scheme(2)), pt=partial(pressure_treatment, scheme=Scheme(2)))\n",
    "semi_lag_tstep = partial(time_step, momep=partial(momentum_equation, adv_diff_scheme='semi_lagrangian', press_scheme=Scheme(2)), pt=partial(pressure_treatment, scheme=Scheme(2)))"
   ],
   "metadata": {
    "id": "1HnN9_KZuBpq"
   },
   "execution_count": null,
   "outputs": []
  },
  {
   "cell_type": "markdown",
   "source": [
    "To factor out the time advancement and put emphasis on the spatial discretisation we use a tiny timestep size of `0.002`. We target a simulation time of 2 seconds resulting in 1000 timesteps.\n",
    "\n",
    "We define a function capable of calculating an error trajectory for a given `resolution` and `\n",
    "tstep` function."
   ],
   "metadata": {
    "id": "ThzE3Q3SE8kl"
   }
  },
  {
   "cell_type": "code",
   "source": [
    "dt = 0.001\n",
    "\n",
    "def generate_error_trajectory(resolution, tstep, title):\n",
    "  print(f'simulate {title} at res: {resolution}', end=': ')\n",
    "  v, p = sample_tgv(resolution, 0)\n",
    "  error_trajectory = [0]\n",
    "\n",
    "  for i in range(int(t_total/dt)):\n",
    "    if i % 100 == 0: print(i, end=' ')\n",
    "    v, p = tstep(v, p, dt)\n",
    "    analytical_solution = sample_tgv(resolution, (i+1)*dt)[0].values\n",
    "\n",
    "    error = v.values - analytical_solution\n",
    "    error_mean_L2 = math.sqrt(math.mean(error**2))\n",
    "    error_mean_relative_L2 = error_mean_L2 / math.mean(abs(analytical_solution))\n",
    "    error_trajectory.append(error_mean_relative_L2)\n",
    "\n",
    "  print()\n",
    "  error_trajectory = stack(error_trajectory, spatial('time'))\n",
    "  return error_trajectory\n",
    "    "
   ],
   "metadata": {
    "id": "a4DrWqW7E7Uq"
   },
   "execution_count": null,
   "outputs": []
  },
  {
   "cell_type": "markdown",
   "source": [
    "Now we are ready to generate extensive comparison data. Depending on available computing resources and available time one can choose between generating the 'small' dataset and the 'big' one which is selected by default. While both datasets will procduce good results, the results from the 'big' are more extpressive."
   ],
   "metadata": {
    "id": "1D4HIPMuVprE"
   }
  },
  {
   "cell_type": "code",
   "source": [
    "resolutions = [5, 10, 20, 50]\n",
    "# resolutions = [5, 20]\n",
    "t_total = 0.5\n",
    "tsteps = [high_ord_tstep, mid_ord_tstep, low_ord_tstep, semi_lag_tstep]\n",
    "# tsteps = [high_ord_tstep]\n",
    "names = ['high_order', 'mid_order', 'low_order', 'semi_lagrangian']\n",
    "# names = ['high_order']\n",
    "\n",
    "errors = []\n",
    "for tstep, name in zip(tsteps, names):\n",
    "  error_block = []\n",
    "  for res in resolutions:\n",
    "    error_block.append(generate_error_trajectory(res, tstep, name))\n",
    "  errors.append(stack(error_block, channel(test=['res: ' + str(res) for res in resolutions])))\n",
    "errors = stack(errors, batch(order=names))\n",
    "\n",
    "# errors_high_ord = []\n",
    "# for res in resolutions:\n",
    "#   errors_high_ord.append(generate_error_trajectory(res, high_ord_tstep, 'high_order'))\n",
    "\n",
    "# errors_mid_ord = []\n",
    "# for res in resolutions:\n",
    "#   errors_mid_ord.append(generate_error_trajectory(res, mid_ord_tstep, 'mid_order'))\n",
    "\n",
    "# errors_low_ord = []\n",
    "# for res in resolutions:\n",
    "#   errors_low_ord.append(generate_error_trajectory(res, low_ord_tstep, 'low_order'))\n",
    "\n",
    "# errors_semi_lag = []\n",
    "# for res in resolutions:\n",
    "#   errors_semi_lag.append(generate_error_trajectory(res, semi_lag_tstep, 'semi_lagrangian'))\n"
   ],
   "metadata": {
    "colab": {
     "base_uri": "https://localhost:8080/"
    },
    "id": "U2Q1uaRKVpVU",
    "outputId": "7786cebc-46ed-4edf-eb07-c20ad8cb401d"
   },
   "execution_count": null,
   "outputs": []
  },
  {
   "cell_type": "code",
   "source": [
    "plot(math.log10(errors))"
   ],
   "metadata": {
    "id": "xhe7mZVzeEL7",
    "colab": {
     "base_uri": "https://localhost:8080/",
     "height": 386
    },
    "outputId": "08023032-ca0d-4607-c539-97d3f725ad32"
   },
   "execution_count": null,
   "outputs": []
  },
  {
   "cell_type": "markdown",
   "source": [
    "Let's take a look at how the errors are developing in time"
   ],
   "metadata": {
    "id": "oDAtLcD2b60a"
   }
  },
  {
   "cell_type": "markdown",
   "source": [
    "To finish off we visualise the final errors with respect to the resolution. This allows us to determine the order of accuracy."
   ],
   "metadata": {
    "id": "fTrKTdDTcB3g"
   }
  },
  {
   "cell_type": "code",
   "source": [
    "ord_of_acc = wrap([6, 4, 2, 1], batch(order=names))\n",
    "\n",
    "final_errors = math.rename_dims(errors.time[-1], 'test', spatial('line'))\n",
    "final_errors = vec(resolution=(stack(resolutions, spatial('line'))), error=final_errors)\n",
    "ideal_line = stack([final_errors.line[0]] + [vec(resolution=resolutions[i], error=final_errors.line[0].vector['error']*(resolutions[0]/resolutions[i])**ord_of_acc) for i in range(1, final_errors.line.size)], spatial('line'))\n",
    "\n",
    "# final_errors = concat([final_errors, ideal_line], 'order')\n",
    "final_errors = stack([final_errors, ideal_line], channel('ideal'))\n",
    "final_errors = math.where(wrap([0,1], channel(vector='resolution, error')), math.log10(final_errors), final_errors)\n",
    "final_errors = math.rename_dims(final_errors, 'order', instance(order=names))\n",
    "plot(PointCloud(Sphere(final_errors, radius=wrap([0.15, 0.15, 0.15, 0.15], instance(order=names))), color=wrap(list(range(final_errors.ideal.size)), channel('ideal'))))\n",
    "plot(PointCloud(Sphere(final_errors, radius=.15), color=wrap(list(range(final_errors.ideal.size)), channel('ideal'))))\n",
    "\n",
    "\n",
    "\n",
    "    "
   ],
   "metadata": {
    "id": "15L7mc2tMkcT",
    "colab": {
     "base_uri": "https://localhost:8080/",
     "height": 458
    },
    "outputId": "e92e4db3-0724-4fe7-8603-d12fd49ed8a3"
   },
   "execution_count": null,
   "outputs": []
  }
 ],
 "metadata": {
  "colab": {
   "provenance": []
  },
  "kernelspec": {
   "display_name": "Python 3 (ipykernel)",
   "language": "python",
   "name": "python3"
  },
  "language_info": {
   "codemirror_mode": {
    "name": "ipython",
    "version": 3
   },
   "file_extension": ".py",
   "mimetype": "text/x-python",
   "name": "python",
   "nbconvert_exporter": "python",
   "pygments_lexer": "ipython3",
   "version": "3.8.10"
  }
 },
 "nbformat": 4,
 "nbformat_minor": 0
}